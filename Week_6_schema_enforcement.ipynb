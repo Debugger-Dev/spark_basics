{
 "cells": [
  {
   "cell_type": "code",
   "execution_count": 1,
   "id": "24614824",
   "metadata": {},
   "outputs": [],
   "source": [
    "from pyspark.sql import SparkSession\n",
    "from pyspark.sql.functions import *\n",
    "import getpass\n",
    "username = getpass.getuser()\n",
    "spark = SparkSession. \\\n",
    "builder. \\\n",
    "config('spark.ui.port', '0'). \\\n",
    "config(\"spark.sql.warehouse.dir\", f\"/user/{username}/warehouse\"). \\\n",
    "enableHiveSupport(). \\\n",
    "master('yarn'). \\\n",
    "getOrCreate()"
   ]
  },
  {
   "cell_type": "code",
   "execution_count": 6,
   "id": "7c621fa4",
   "metadata": {},
   "outputs": [],
   "source": [
    "orders_df=spark.read \\\n",
    ".format('csv') \\\n",
    ".option('header','true') \\\n",
    ".option('inferSchema','true') \\\n",
    ".load('/public/yelp-dataset/yelp_user.csv')"
   ]
  },
  {
   "cell_type": "code",
   "execution_count": 9,
   "id": "71ffc2d8",
   "metadata": {},
   "outputs": [],
   "source": [
    "orders_df1=spark.read \\\n",
    ".format('csv') \\\n",
    ".option('header','true') \\\n",
    ".option('inferSchema','true') \\\n",
    ".option('samplingRatio','0.6') \\\n",
    ".load('/public/yelp-dataset/yelp_user.csv')"
   ]
  },
  {
   "cell_type": "code",
   "execution_count": 7,
   "id": "03f27492",
   "metadata": {},
   "outputs": [
    {
     "name": "stdout",
     "output_type": "stream",
     "text": [
      "root\n",
      " |-- user_id: string (nullable = true)\n",
      " |-- name: string (nullable = true)\n",
      " |-- review_count: integer (nullable = true)\n",
      " |-- yelping_since: string (nullable = true)\n",
      " |-- friends: string (nullable = true)\n",
      " |-- useful: integer (nullable = true)\n",
      " |-- funny: integer (nullable = true)\n",
      " |-- cool: integer (nullable = true)\n",
      " |-- fans: integer (nullable = true)\n",
      " |-- elite: string (nullable = true)\n",
      " |-- average_stars: double (nullable = true)\n",
      " |-- compliment_hot: integer (nullable = true)\n",
      " |-- compliment_more: integer (nullable = true)\n",
      " |-- compliment_profile: integer (nullable = true)\n",
      " |-- compliment_cute: integer (nullable = true)\n",
      " |-- compliment_list: integer (nullable = true)\n",
      " |-- compliment_note: integer (nullable = true)\n",
      " |-- compliment_plain: integer (nullable = true)\n",
      " |-- compliment_cool: integer (nullable = true)\n",
      " |-- compliment_funny: integer (nullable = true)\n",
      " |-- compliment_writer: integer (nullable = true)\n",
      " |-- compliment_photos: integer (nullable = true)\n",
      "\n"
     ]
    }
   ],
   "source": [
    "orders_df.printSchema()"
   ]
  },
  {
   "cell_type": "code",
   "execution_count": 10,
   "id": "050b52a3",
   "metadata": {},
   "outputs": [
    {
     "name": "stdout",
     "output_type": "stream",
     "text": [
      "root\n",
      " |-- user_id: string (nullable = true)\n",
      " |-- name: string (nullable = true)\n",
      " |-- review_count: integer (nullable = true)\n",
      " |-- yelping_since: string (nullable = true)\n",
      " |-- friends: string (nullable = true)\n",
      " |-- useful: integer (nullable = true)\n",
      " |-- funny: integer (nullable = true)\n",
      " |-- cool: integer (nullable = true)\n",
      " |-- fans: integer (nullable = true)\n",
      " |-- elite: string (nullable = true)\n",
      " |-- average_stars: double (nullable = true)\n",
      " |-- compliment_hot: integer (nullable = true)\n",
      " |-- compliment_more: integer (nullable = true)\n",
      " |-- compliment_profile: integer (nullable = true)\n",
      " |-- compliment_cute: integer (nullable = true)\n",
      " |-- compliment_list: integer (nullable = true)\n",
      " |-- compliment_note: integer (nullable = true)\n",
      " |-- compliment_plain: integer (nullable = true)\n",
      " |-- compliment_cool: integer (nullable = true)\n",
      " |-- compliment_funny: integer (nullable = true)\n",
      " |-- compliment_writer: integer (nullable = true)\n",
      " |-- compliment_photos: integer (nullable = true)\n",
      "\n"
     ]
    }
   ],
   "source": [
    "orders_df1.printSchema()"
   ]
  },
  {
   "cell_type": "code",
   "execution_count": 2,
   "id": "d35c693a",
   "metadata": {},
   "outputs": [],
   "source": [
    "orders_schema='order_id LONG,order_date DATE,customer_id LONG,order_status STRING'"
   ]
  },
  {
   "cell_type": "code",
   "execution_count": 6,
   "id": "ac9196fa",
   "metadata": {},
   "outputs": [],
   "source": [
    "from pyspark.sql.types import *\n",
    "order_struct_sch=StructType([\n",
    "    StructField('order_id',LongType()),\n",
    "    StructField('order_date',DateType()),\n",
    "    StructField('customer_id',LongType()),\n",
    "    StructField('order_status',StringType())\n",
    "])"
   ]
  },
  {
   "cell_type": "code",
   "execution_count": 4,
   "id": "f42e7373",
   "metadata": {},
   "outputs": [],
   "source": [
    "orders=spark.read \\\n",
    ".format('csv') \\\n",
    ".option('header','true') \\\n",
    ".schema(orders_schema) \\\n",
    ".load('/public/trendytech/orders_wh/*')"
   ]
  },
  {
   "cell_type": "code",
   "execution_count": 7,
   "id": "92e59bcc",
   "metadata": {},
   "outputs": [],
   "source": [
    "orders_2=spark.read \\\n",
    ".format('csv') \\\n",
    ".option('header','true') \\\n",
    ".schema(order_struct_sch) \\\n",
    ".load('/public/trendytech/orders_wh/*')"
   ]
  },
  {
   "cell_type": "code",
   "execution_count": null,
   "id": "ff8f51d1",
   "metadata": {},
   "outputs": [],
   "source": [
    "spark.stop()"
   ]
  },
  {
   "cell_type": "code",
   "execution_count": null,
   "id": "7193a068",
   "metadata": {},
   "outputs": [],
   "source": []
  }
 ],
 "metadata": {
  "kernelspec": {
   "display_name": "Pyspark 3",
   "language": "python",
   "name": "pyspark3"
  },
  "language_info": {
   "codemirror_mode": {
    "name": "ipython",
    "version": 3
   },
   "file_extension": ".py",
   "mimetype": "text/x-python",
   "name": "python",
   "nbconvert_exporter": "python",
   "pygments_lexer": "ipython3",
   "version": "3.6.12"
  }
 },
 "nbformat": 4,
 "nbformat_minor": 5
}
