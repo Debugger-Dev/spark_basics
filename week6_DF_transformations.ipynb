{
 "cells": [
  {
   "cell_type": "code",
   "execution_count": 1,
   "id": "343ed7dc",
   "metadata": {},
   "outputs": [],
   "source": [
    "from pyspark.sql import SparkSession\n",
    "from pyspark.sql.functions import *\n",
    "import getpass\n",
    "username = getpass.getuser()\n",
    "spark = SparkSession. \\\n",
    "builder. \\\n",
    "config('spark.ui.port', '0'). \\\n",
    "config(\"spark.sql.warehouse.dir\", f\"/user/{username}/warehouse\"). \\\n",
    "enableHiveSupport(). \\\n",
    "master('yarn'). \\\n",
    "getOrCreate()"
   ]
  },
  {
   "cell_type": "code",
   "execution_count": 2,
   "id": "ea4d1ace",
   "metadata": {},
   "outputs": [],
   "source": [
    "raw_df=spark.read \\\n",
    "    .format('csv') \\\n",
    "    .option('inferSchema','true') \\\n",
    "    .load('/public/trendytech/retail_db/order_items/part-00000')"
   ]
  },
  {
   "cell_type": "code",
   "execution_count": 20,
   "id": "fe17e634",
   "metadata": {},
   "outputs": [],
   "source": [
    "product_df=spark.read \\\n",
    "    .format('csv') \\\n",
    "    .option('inferSchema','true') \\\n",
    "    .load('/public/trendytech/retail_db/products/part-00000')"
   ]
  },
  {
   "cell_type": "code",
   "execution_count": 21,
   "id": "baec2568",
   "metadata": {},
   "outputs": [
    {
     "name": "stdout",
     "output_type": "stream",
     "text": [
      "+---+---+--------------------+----+------+--------------------+\n",
      "|_c0|_c1|                 _c2| _c3|   _c4|                 _c5|\n",
      "+---+---+--------------------+----+------+--------------------+\n",
      "|  1|  2|Quest Q64 10 FT. ...|null| 59.98|http://images.acm...|\n",
      "|  2|  2|Under Armour Men'...|null|129.99|http://images.acm...|\n",
      "|  3|  2|Under Armour Men'...|null| 89.99|http://images.acm...|\n",
      "|  4|  2|Under Armour Men'...|null| 89.99|http://images.acm...|\n",
      "|  5|  2|Riddell Youth Rev...|null|199.99|http://images.acm...|\n",
      "+---+---+--------------------+----+------+--------------------+\n",
      "only showing top 5 rows\n",
      "\n"
     ]
    }
   ],
   "source": [
    "product_df.show(5)"
   ]
  },
  {
   "cell_type": "code",
   "execution_count": 23,
   "id": "5d371469",
   "metadata": {},
   "outputs": [],
   "source": [
    "refined_product_df=product_df.toDF('product_id','product_category_id','product_name','product_description','product_price','product_image')"
   ]
  },
  {
   "cell_type": "code",
   "execution_count": 24,
   "id": "750f3ead",
   "metadata": {},
   "outputs": [
    {
     "name": "stdout",
     "output_type": "stream",
     "text": [
      "+----------+-------------------+--------------------+-------------------+-------------+--------------------+\n",
      "|product_id|product_category_id|        product_name|product_description|product_price|       product_image|\n",
      "+----------+-------------------+--------------------+-------------------+-------------+--------------------+\n",
      "|         1|                  2|Quest Q64 10 FT. ...|               null|        59.98|http://images.acm...|\n",
      "|         2|                  2|Under Armour Men'...|               null|       129.99|http://images.acm...|\n",
      "|         3|                  2|Under Armour Men'...|               null|        89.99|http://images.acm...|\n",
      "|         4|                  2|Under Armour Men'...|               null|        89.99|http://images.acm...|\n",
      "|         5|                  2|Riddell Youth Rev...|               null|       199.99|http://images.acm...|\n",
      "+----------+-------------------+--------------------+-------------------+-------------+--------------------+\n",
      "only showing top 5 rows\n",
      "\n"
     ]
    }
   ],
   "source": [
    "refined_product_df.show(5)"
   ]
  },
  {
   "cell_type": "code",
   "execution_count": 3,
   "id": "45d0694a",
   "metadata": {},
   "outputs": [
    {
     "name": "stdout",
     "output_type": "stream",
     "text": [
      "+---+---+----+---+------+------+\n",
      "|_c0|_c1| _c2|_c3|   _c4|   _c5|\n",
      "+---+---+----+---+------+------+\n",
      "|  1|  1| 957|  1|299.98|299.98|\n",
      "|  2|  2|1073|  1|199.99|199.99|\n",
      "|  3|  2| 502|  5| 250.0|  50.0|\n",
      "|  4|  2| 403|  1|129.99|129.99|\n",
      "|  5|  4| 897|  2| 49.98| 24.99|\n",
      "+---+---+----+---+------+------+\n",
      "only showing top 5 rows\n",
      "\n"
     ]
    }
   ],
   "source": [
    "raw_df.show(5)"
   ]
  },
  {
   "cell_type": "code",
   "execution_count": 4,
   "id": "ccc1eca4",
   "metadata": {},
   "outputs": [
    {
     "name": "stdout",
     "output_type": "stream",
     "text": [
      "root\n",
      " |-- _c0: integer (nullable = true)\n",
      " |-- _c1: integer (nullable = true)\n",
      " |-- _c2: integer (nullable = true)\n",
      " |-- _c3: integer (nullable = true)\n",
      " |-- _c4: double (nullable = true)\n",
      " |-- _c5: double (nullable = true)\n",
      "\n"
     ]
    }
   ],
   "source": [
    "raw_df.printSchema()"
   ]
  },
  {
   "cell_type": "code",
   "execution_count": 5,
   "id": "a323594d",
   "metadata": {},
   "outputs": [],
   "source": [
    "schema="
   ]
  },
  {
   "cell_type": "code",
   "execution_count": 8,
   "id": "845ad1b6",
   "metadata": {},
   "outputs": [],
   "source": [
    "df_1=raw_df.toDF(\"order_item_id\" , \"order_id\" , \"product_id\" , \"quantity\" , \"subtotal\",\"product_price\")"
   ]
  },
  {
   "cell_type": "code",
   "execution_count": 9,
   "id": "bc3bbd6d",
   "metadata": {},
   "outputs": [
    {
     "name": "stdout",
     "output_type": "stream",
     "text": [
      "+-------------+--------+----------+--------+--------+-------------+\n",
      "|order_item_id|order_id|product_id|quantity|subtotal|product_price|\n",
      "+-------------+--------+----------+--------+--------+-------------+\n",
      "|            1|       1|       957|       1|  299.98|       299.98|\n",
      "|            2|       2|      1073|       1|  199.99|       199.99|\n",
      "|            3|       2|       502|       5|   250.0|         50.0|\n",
      "|            4|       2|       403|       1|  129.99|       129.99|\n",
      "|            5|       4|       897|       2|   49.98|        24.99|\n",
      "+-------------+--------+----------+--------+--------+-------------+\n",
      "only showing top 5 rows\n",
      "\n"
     ]
    }
   ],
   "source": [
    "df_1.show(5)"
   ]
  },
  {
   "cell_type": "code",
   "execution_count": 10,
   "id": "e1367fd0",
   "metadata": {},
   "outputs": [],
   "source": [
    "df_2=df_1.drop('subtotal')"
   ]
  },
  {
   "cell_type": "code",
   "execution_count": 12,
   "id": "fd7d7ef7",
   "metadata": {},
   "outputs": [
    {
     "name": "stdout",
     "output_type": "stream",
     "text": [
      "+-------------+--------+----------+--------+-------------+\n",
      "|order_item_id|order_id|product_id|quantity|product_price|\n",
      "+-------------+--------+----------+--------+-------------+\n",
      "|            1|       1|       957|       1|       299.98|\n",
      "|            2|       2|      1073|       1|       199.99|\n",
      "|            3|       2|       502|       5|         50.0|\n",
      "|            4|       2|       403|       1|       129.99|\n",
      "|            5|       4|       897|       2|        24.99|\n",
      "+-------------+--------+----------+--------+-------------+\n",
      "only showing top 5 rows\n",
      "\n"
     ]
    }
   ],
   "source": [
    "df_2.show(5)"
   ]
  },
  {
   "cell_type": "code",
   "execution_count": 16,
   "id": "745cbe27",
   "metadata": {},
   "outputs": [
    {
     "name": "stdout",
     "output_type": "stream",
     "text": [
      "+--------+----------+--------+-------------+\n",
      "|order_id|product_id|quantity|product_price|\n",
      "+--------+----------+--------+-------------+\n",
      "|       1|       957|       1|       299.98|\n",
      "|       2|      1073|       1|       199.99|\n",
      "|       2|       502|       5|         50.0|\n",
      "|       2|       403|       1|       129.99|\n",
      "|       4|       897|       2|        24.99|\n",
      "+--------+----------+--------+-------------+\n",
      "only showing top 5 rows\n",
      "\n"
     ]
    }
   ],
   "source": [
    "df_2.select('order_id','product_id','quantity','product_price').show(5)"
   ]
  },
  {
   "cell_type": "code",
   "execution_count": 17,
   "id": "7e29faf0",
   "metadata": {},
   "outputs": [
    {
     "ename": "AnalysisException",
     "evalue": "cannot resolve '`quantity*product_price as subtotal`' given input columns: [order_id, order_item_id, product_id, product_price, quantity];;\n'Project [order_item_id#59, order_id#60, product_id#61, quantity#62, product_price#64, 'quantity*product_price as subtotal]\n+- Project [order_item_id#59, order_id#60, product_id#61, quantity#62, product_price#64]\n   +- Project [_c0#16 AS order_item_id#59, _c1#17 AS order_id#60, _c2#18 AS product_id#61, _c3#19 AS quantity#62, _c4#20 AS subtotal#63, _c5#21 AS product_price#64]\n      +- Relation[_c0#16,_c1#17,_c2#18,_c3#19,_c4#20,_c5#21] csv\n",
     "output_type": "error",
     "traceback": [
      "\u001b[0;31m---------------------------------------------------------------------------\u001b[0m",
      "\u001b[0;31mAnalysisException\u001b[0m                         Traceback (most recent call last)",
      "\u001b[0;32m<ipython-input-17-b7fc861eef06>\u001b[0m in \u001b[0;36m<module>\u001b[0;34m\u001b[0m\n\u001b[0;32m----> 1\u001b[0;31m \u001b[0mdf_2\u001b[0m\u001b[0;34m.\u001b[0m\u001b[0mselect\u001b[0m\u001b[0;34m(\u001b[0m\u001b[0;34m\"*\"\u001b[0m\u001b[0;34m,\u001b[0m\u001b[0;34m\"quantity*product_price as subtotal\"\u001b[0m\u001b[0;34m)\u001b[0m\u001b[0;34m.\u001b[0m\u001b[0mshow\u001b[0m\u001b[0;34m(\u001b[0m\u001b[0;36m5\u001b[0m\u001b[0;34m)\u001b[0m\u001b[0;34m\u001b[0m\u001b[0;34m\u001b[0m\u001b[0m\n\u001b[0m",
      "\u001b[0;32m/opt/spark-3.0.1-bin-hadoop3.2/python/pyspark/sql/dataframe.py\u001b[0m in \u001b[0;36mselect\u001b[0;34m(self, *cols)\u001b[0m\n\u001b[1;32m   1419\u001b[0m         \u001b[0;34m[\u001b[0m\u001b[0mRow\u001b[0m\u001b[0;34m(\u001b[0m\u001b[0mname\u001b[0m\u001b[0;34m=\u001b[0m\u001b[0;34mu'Alice'\u001b[0m\u001b[0;34m,\u001b[0m \u001b[0mage\u001b[0m\u001b[0;34m=\u001b[0m\u001b[0;36m12\u001b[0m\u001b[0;34m)\u001b[0m\u001b[0;34m,\u001b[0m \u001b[0mRow\u001b[0m\u001b[0;34m(\u001b[0m\u001b[0mname\u001b[0m\u001b[0;34m=\u001b[0m\u001b[0;34mu'Bob'\u001b[0m\u001b[0;34m,\u001b[0m \u001b[0mage\u001b[0m\u001b[0;34m=\u001b[0m\u001b[0;36m15\u001b[0m\u001b[0;34m)\u001b[0m\u001b[0;34m]\u001b[0m\u001b[0;34m\u001b[0m\u001b[0;34m\u001b[0m\u001b[0m\n\u001b[1;32m   1420\u001b[0m         \"\"\"\n\u001b[0;32m-> 1421\u001b[0;31m         \u001b[0mjdf\u001b[0m \u001b[0;34m=\u001b[0m \u001b[0mself\u001b[0m\u001b[0;34m.\u001b[0m\u001b[0m_jdf\u001b[0m\u001b[0;34m.\u001b[0m\u001b[0mselect\u001b[0m\u001b[0;34m(\u001b[0m\u001b[0mself\u001b[0m\u001b[0;34m.\u001b[0m\u001b[0m_jcols\u001b[0m\u001b[0;34m(\u001b[0m\u001b[0;34m*\u001b[0m\u001b[0mcols\u001b[0m\u001b[0;34m)\u001b[0m\u001b[0;34m)\u001b[0m\u001b[0;34m\u001b[0m\u001b[0;34m\u001b[0m\u001b[0m\n\u001b[0m\u001b[1;32m   1422\u001b[0m         \u001b[0;32mreturn\u001b[0m \u001b[0mDataFrame\u001b[0m\u001b[0;34m(\u001b[0m\u001b[0mjdf\u001b[0m\u001b[0;34m,\u001b[0m \u001b[0mself\u001b[0m\u001b[0;34m.\u001b[0m\u001b[0msql_ctx\u001b[0m\u001b[0;34m)\u001b[0m\u001b[0;34m\u001b[0m\u001b[0;34m\u001b[0m\u001b[0m\n\u001b[1;32m   1423\u001b[0m \u001b[0;34m\u001b[0m\u001b[0m\n",
      "\u001b[0;32m/opt/spark-3.0.1-bin-hadoop3.2/python/lib/py4j-0.10.9-src.zip/py4j/java_gateway.py\u001b[0m in \u001b[0;36m__call__\u001b[0;34m(self, *args)\u001b[0m\n\u001b[1;32m   1303\u001b[0m         \u001b[0manswer\u001b[0m \u001b[0;34m=\u001b[0m \u001b[0mself\u001b[0m\u001b[0;34m.\u001b[0m\u001b[0mgateway_client\u001b[0m\u001b[0;34m.\u001b[0m\u001b[0msend_command\u001b[0m\u001b[0;34m(\u001b[0m\u001b[0mcommand\u001b[0m\u001b[0;34m)\u001b[0m\u001b[0;34m\u001b[0m\u001b[0;34m\u001b[0m\u001b[0m\n\u001b[1;32m   1304\u001b[0m         return_value = get_return_value(\n\u001b[0;32m-> 1305\u001b[0;31m             answer, self.gateway_client, self.target_id, self.name)\n\u001b[0m\u001b[1;32m   1306\u001b[0m \u001b[0;34m\u001b[0m\u001b[0m\n\u001b[1;32m   1307\u001b[0m         \u001b[0;32mfor\u001b[0m \u001b[0mtemp_arg\u001b[0m \u001b[0;32min\u001b[0m \u001b[0mtemp_args\u001b[0m\u001b[0;34m:\u001b[0m\u001b[0;34m\u001b[0m\u001b[0;34m\u001b[0m\u001b[0m\n",
      "\u001b[0;32m/opt/spark-3.0.1-bin-hadoop3.2/python/pyspark/sql/utils.py\u001b[0m in \u001b[0;36mdeco\u001b[0;34m(*a, **kw)\u001b[0m\n\u001b[1;32m    132\u001b[0m                 \u001b[0;31m# Hide where the exception came from that shows a non-Pythonic\u001b[0m\u001b[0;34m\u001b[0m\u001b[0;34m\u001b[0m\u001b[0;34m\u001b[0m\u001b[0m\n\u001b[1;32m    133\u001b[0m                 \u001b[0;31m# JVM exception message.\u001b[0m\u001b[0;34m\u001b[0m\u001b[0;34m\u001b[0m\u001b[0;34m\u001b[0m\u001b[0m\n\u001b[0;32m--> 134\u001b[0;31m                 \u001b[0mraise_from\u001b[0m\u001b[0;34m(\u001b[0m\u001b[0mconverted\u001b[0m\u001b[0;34m)\u001b[0m\u001b[0;34m\u001b[0m\u001b[0;34m\u001b[0m\u001b[0m\n\u001b[0m\u001b[1;32m    135\u001b[0m             \u001b[0;32melse\u001b[0m\u001b[0;34m:\u001b[0m\u001b[0;34m\u001b[0m\u001b[0;34m\u001b[0m\u001b[0m\n\u001b[1;32m    136\u001b[0m                 \u001b[0;32mraise\u001b[0m\u001b[0;34m\u001b[0m\u001b[0;34m\u001b[0m\u001b[0m\n",
      "\u001b[0;32m/opt/spark-3.0.1-bin-hadoop3.2/python/pyspark/sql/utils.py\u001b[0m in \u001b[0;36mraise_from\u001b[0;34m(e)\u001b[0m\n",
      "\u001b[0;31mAnalysisException\u001b[0m: cannot resolve '`quantity*product_price as subtotal`' given input columns: [order_id, order_item_id, product_id, product_price, quantity];;\n'Project [order_item_id#59, order_id#60, product_id#61, quantity#62, product_price#64, 'quantity*product_price as subtotal]\n+- Project [order_item_id#59, order_id#60, product_id#61, quantity#62, product_price#64]\n   +- Project [_c0#16 AS order_item_id#59, _c1#17 AS order_id#60, _c2#18 AS product_id#61, _c3#19 AS quantity#62, _c4#20 AS subtotal#63, _c5#21 AS product_price#64]\n      +- Relation[_c0#16,_c1#17,_c2#18,_c3#19,_c4#20,_c5#21] csv\n"
     ]
    }
   ],
   "source": [
    "df_2.select(\"*\",\"quantity*product_price as subtotal\").show(5)\n",
    "#wont work as it thinks the second expr as a column name"
   ]
  },
  {
   "cell_type": "code",
   "execution_count": 18,
   "id": "ee12dfa8",
   "metadata": {},
   "outputs": [
    {
     "name": "stdout",
     "output_type": "stream",
     "text": [
      "+-------------+--------+----------+--------+-------------+--------+\n",
      "|order_item_id|order_id|product_id|quantity|product_price|subtotal|\n",
      "+-------------+--------+----------+--------+-------------+--------+\n",
      "|            1|       1|       957|       1|       299.98|  299.98|\n",
      "|            2|       2|      1073|       1|       199.99|  199.99|\n",
      "|            3|       2|       502|       5|         50.0|   250.0|\n",
      "|            4|       2|       403|       1|       129.99|  129.99|\n",
      "|            5|       4|       897|       2|        24.99|   49.98|\n",
      "+-------------+--------+----------+--------+-------------+--------+\n",
      "only showing top 5 rows\n",
      "\n"
     ]
    }
   ],
   "source": [
    "from pyspark.sql.functions import expr\n",
    "df_2.select(\"*\",expr(\"quantity*product_price as subtotal\")).show(5)"
   ]
  },
  {
   "cell_type": "code",
   "execution_count": 19,
   "id": "a98ef21a",
   "metadata": {},
   "outputs": [
    {
     "name": "stdout",
     "output_type": "stream",
     "text": [
      "+-------------+--------+----------+--------+-------------+--------+\n",
      "|order_item_id|order_id|product_id|quantity|product_price|subtotal|\n",
      "+-------------+--------+----------+--------+-------------+--------+\n",
      "|            1|       1|       957|       1|       299.98|  299.98|\n",
      "|            2|       2|      1073|       1|       199.99|  199.99|\n",
      "|            3|       2|       502|       5|         50.0|   250.0|\n",
      "|            4|       2|       403|       1|       129.99|  129.99|\n",
      "|            5|       4|       897|       2|        24.99|   49.98|\n",
      "+-------------+--------+----------+--------+-------------+--------+\n",
      "only showing top 5 rows\n",
      "\n"
     ]
    }
   ],
   "source": [
    "df_2.selectExpr(\"*\",\"quantity*product_price as subtotal\").show(5)"
   ]
  },
  {
   "cell_type": "code",
   "execution_count": 25,
   "id": "22febd7d",
   "metadata": {},
   "outputs": [
    {
     "ename": "AssertionError",
     "evalue": "col should be Column",
     "output_type": "error",
     "traceback": [
      "\u001b[0;31m---------------------------------------------------------------------------\u001b[0m",
      "\u001b[0;31mAssertionError\u001b[0m                            Traceback (most recent call last)",
      "\u001b[0;32m<ipython-input-25-adb5f6a6dc7e>\u001b[0m in \u001b[0;36m<module>\u001b[0;34m\u001b[0m\n\u001b[1;32m      1\u001b[0m \u001b[0;31m#increase price of each element in product\u001b[0m\u001b[0;34m\u001b[0m\u001b[0;34m\u001b[0m\u001b[0;34m\u001b[0m\u001b[0m\n\u001b[0;32m----> 2\u001b[0;31m \u001b[0mrefined_product_df\u001b[0m\u001b[0;34m.\u001b[0m\u001b[0mwithColumn\u001b[0m\u001b[0;34m(\u001b[0m\u001b[0;34m'product_price'\u001b[0m\u001b[0;34m,\u001b[0m\u001b[0;34m'product_price*1.2'\u001b[0m\u001b[0;34m)\u001b[0m\u001b[0;34m.\u001b[0m\u001b[0mshow\u001b[0m\u001b[0;34m(\u001b[0m\u001b[0;34m)\u001b[0m\u001b[0;34m\u001b[0m\u001b[0;34m\u001b[0m\u001b[0m\n\u001b[0m",
      "\u001b[0;32m/opt/spark-3.0.1-bin-hadoop3.2/python/pyspark/sql/dataframe.py\u001b[0m in \u001b[0;36mwithColumn\u001b[0;34m(self, colName, col)\u001b[0m\n\u001b[1;32m   2093\u001b[0m \u001b[0;34m\u001b[0m\u001b[0m\n\u001b[1;32m   2094\u001b[0m         \"\"\"\n\u001b[0;32m-> 2095\u001b[0;31m         \u001b[0;32massert\u001b[0m \u001b[0misinstance\u001b[0m\u001b[0;34m(\u001b[0m\u001b[0mcol\u001b[0m\u001b[0;34m,\u001b[0m \u001b[0mColumn\u001b[0m\u001b[0;34m)\u001b[0m\u001b[0;34m,\u001b[0m \u001b[0;34m\"col should be Column\"\u001b[0m\u001b[0;34m\u001b[0m\u001b[0;34m\u001b[0m\u001b[0m\n\u001b[0m\u001b[1;32m   2096\u001b[0m         \u001b[0;32mreturn\u001b[0m \u001b[0mDataFrame\u001b[0m\u001b[0;34m(\u001b[0m\u001b[0mself\u001b[0m\u001b[0;34m.\u001b[0m\u001b[0m_jdf\u001b[0m\u001b[0;34m.\u001b[0m\u001b[0mwithColumn\u001b[0m\u001b[0;34m(\u001b[0m\u001b[0mcolName\u001b[0m\u001b[0;34m,\u001b[0m \u001b[0mcol\u001b[0m\u001b[0;34m.\u001b[0m\u001b[0m_jc\u001b[0m\u001b[0;34m)\u001b[0m\u001b[0;34m,\u001b[0m \u001b[0mself\u001b[0m\u001b[0;34m.\u001b[0m\u001b[0msql_ctx\u001b[0m\u001b[0;34m)\u001b[0m\u001b[0;34m\u001b[0m\u001b[0;34m\u001b[0m\u001b[0m\n\u001b[1;32m   2097\u001b[0m \u001b[0;34m\u001b[0m\u001b[0m\n",
      "\u001b[0;31mAssertionError\u001b[0m: col should be Column"
     ]
    }
   ],
   "source": [
    "#increase price of each element in product\n",
    "refined_product_df.withColumn('product_price','product_price*1.2').show()"
   ]
  },
  {
   "cell_type": "code",
   "execution_count": 27,
   "id": "45711a4f",
   "metadata": {},
   "outputs": [
    {
     "name": "stdout",
     "output_type": "stream",
     "text": [
      "+----------+-------------------+--------------------+-------------------+------------------+--------------------+\n",
      "|product_id|product_category_id|        product_name|product_description|     product_price|       product_image|\n",
      "+----------+-------------------+--------------------+-------------------+------------------+--------------------+\n",
      "|         1|                  2|Quest Q64 10 FT. ...|               null|            71.976|http://images.acm...|\n",
      "|         2|                  2|Under Armour Men'...|               null|           155.988|http://images.acm...|\n",
      "|         3|                  2|Under Armour Men'...|               null|107.98799999999999|http://images.acm...|\n",
      "|         4|                  2|Under Armour Men'...|               null|107.98799999999999|http://images.acm...|\n",
      "|         5|                  2|Riddell Youth Rev...|               null|           239.988|http://images.acm...|\n",
      "+----------+-------------------+--------------------+-------------------+------------------+--------------------+\n",
      "only showing top 5 rows\n",
      "\n"
     ]
    }
   ],
   "source": [
    "refined_product_df.withColumn('product_price',expr('product_price*1.2')).show(5)"
   ]
  },
  {
   "cell_type": "code",
   "execution_count": 28,
   "id": "c77f17ec",
   "metadata": {},
   "outputs": [
    {
     "ename": "ParseException",
     "evalue": "\nmismatched input 'product_name' expecting {<EOF>, '-'}(line 1, pos 10)\n\n== SQL ==\nCASE WHEN product_name LIKE \"%NIKE%\" THEN 1.5*product_price WHEN product_name LIKE \"%Armour%\" THEN 1.25*product_price ELSE product_price\n----------^^^\n",
     "output_type": "error",
     "traceback": [
      "\u001b[0;31m---------------------------------------------------------------------------\u001b[0m",
      "\u001b[0;31mParseException\u001b[0m                            Traceback (most recent call last)",
      "\u001b[0;32m<ipython-input-28-043ea510efa4>\u001b[0m in \u001b[0;36m<module>\u001b[0;34m\u001b[0m\n\u001b[0;32m----> 1\u001b[0;31m \u001b[0mrefined_product_df\u001b[0m\u001b[0;34m.\u001b[0m\u001b[0mwithColumn\u001b[0m\u001b[0;34m(\u001b[0m\u001b[0;34m'product_price'\u001b[0m\u001b[0;34m,\u001b[0m\u001b[0mexpr\u001b[0m\u001b[0;34m(\u001b[0m\u001b[0;34m'CASE WHEN product_name LIKE \"%NIKE%\" THEN 1.5*product_price WHEN product_name LIKE \"%Armour%\" THEN 1.25*product_price ELSE product_price'\u001b[0m\u001b[0;34m)\u001b[0m\u001b[0;34m)\u001b[0m\u001b[0;34m.\u001b[0m\u001b[0mshow\u001b[0m\u001b[0;34m(\u001b[0m\u001b[0;36m20\u001b[0m\u001b[0;34m)\u001b[0m\u001b[0;34m\u001b[0m\u001b[0;34m\u001b[0m\u001b[0m\n\u001b[0m",
      "\u001b[0;32m/opt/spark-3.0.1-bin-hadoop3.2/python/pyspark/sql/functions.py\u001b[0m in \u001b[0;36mexpr\u001b[0;34m(str)\u001b[0m\n\u001b[1;32m    719\u001b[0m     \"\"\"\n\u001b[1;32m    720\u001b[0m     \u001b[0msc\u001b[0m \u001b[0;34m=\u001b[0m \u001b[0mSparkContext\u001b[0m\u001b[0;34m.\u001b[0m\u001b[0m_active_spark_context\u001b[0m\u001b[0;34m\u001b[0m\u001b[0;34m\u001b[0m\u001b[0m\n\u001b[0;32m--> 721\u001b[0;31m     \u001b[0;32mreturn\u001b[0m \u001b[0mColumn\u001b[0m\u001b[0;34m(\u001b[0m\u001b[0msc\u001b[0m\u001b[0;34m.\u001b[0m\u001b[0m_jvm\u001b[0m\u001b[0;34m.\u001b[0m\u001b[0mfunctions\u001b[0m\u001b[0;34m.\u001b[0m\u001b[0mexpr\u001b[0m\u001b[0;34m(\u001b[0m\u001b[0mstr\u001b[0m\u001b[0;34m)\u001b[0m\u001b[0;34m)\u001b[0m\u001b[0;34m\u001b[0m\u001b[0;34m\u001b[0m\u001b[0m\n\u001b[0m\u001b[1;32m    722\u001b[0m \u001b[0;34m\u001b[0m\u001b[0m\n\u001b[1;32m    723\u001b[0m \u001b[0;34m\u001b[0m\u001b[0m\n",
      "\u001b[0;32m/opt/spark-3.0.1-bin-hadoop3.2/python/lib/py4j-0.10.9-src.zip/py4j/java_gateway.py\u001b[0m in \u001b[0;36m__call__\u001b[0;34m(self, *args)\u001b[0m\n\u001b[1;32m   1303\u001b[0m         \u001b[0manswer\u001b[0m \u001b[0;34m=\u001b[0m \u001b[0mself\u001b[0m\u001b[0;34m.\u001b[0m\u001b[0mgateway_client\u001b[0m\u001b[0;34m.\u001b[0m\u001b[0msend_command\u001b[0m\u001b[0;34m(\u001b[0m\u001b[0mcommand\u001b[0m\u001b[0;34m)\u001b[0m\u001b[0;34m\u001b[0m\u001b[0;34m\u001b[0m\u001b[0m\n\u001b[1;32m   1304\u001b[0m         return_value = get_return_value(\n\u001b[0;32m-> 1305\u001b[0;31m             answer, self.gateway_client, self.target_id, self.name)\n\u001b[0m\u001b[1;32m   1306\u001b[0m \u001b[0;34m\u001b[0m\u001b[0m\n\u001b[1;32m   1307\u001b[0m         \u001b[0;32mfor\u001b[0m \u001b[0mtemp_arg\u001b[0m \u001b[0;32min\u001b[0m \u001b[0mtemp_args\u001b[0m\u001b[0;34m:\u001b[0m\u001b[0;34m\u001b[0m\u001b[0;34m\u001b[0m\u001b[0m\n",
      "\u001b[0;32m/opt/spark-3.0.1-bin-hadoop3.2/python/pyspark/sql/utils.py\u001b[0m in \u001b[0;36mdeco\u001b[0;34m(*a, **kw)\u001b[0m\n\u001b[1;32m    132\u001b[0m                 \u001b[0;31m# Hide where the exception came from that shows a non-Pythonic\u001b[0m\u001b[0;34m\u001b[0m\u001b[0;34m\u001b[0m\u001b[0;34m\u001b[0m\u001b[0m\n\u001b[1;32m    133\u001b[0m                 \u001b[0;31m# JVM exception message.\u001b[0m\u001b[0;34m\u001b[0m\u001b[0;34m\u001b[0m\u001b[0;34m\u001b[0m\u001b[0m\n\u001b[0;32m--> 134\u001b[0;31m                 \u001b[0mraise_from\u001b[0m\u001b[0;34m(\u001b[0m\u001b[0mconverted\u001b[0m\u001b[0;34m)\u001b[0m\u001b[0;34m\u001b[0m\u001b[0;34m\u001b[0m\u001b[0m\n\u001b[0m\u001b[1;32m    135\u001b[0m             \u001b[0;32melse\u001b[0m\u001b[0;34m:\u001b[0m\u001b[0;34m\u001b[0m\u001b[0;34m\u001b[0m\u001b[0m\n\u001b[1;32m    136\u001b[0m                 \u001b[0;32mraise\u001b[0m\u001b[0;34m\u001b[0m\u001b[0;34m\u001b[0m\u001b[0m\n",
      "\u001b[0;32m/opt/spark-3.0.1-bin-hadoop3.2/python/pyspark/sql/utils.py\u001b[0m in \u001b[0;36mraise_from\u001b[0;34m(e)\u001b[0m\n",
      "\u001b[0;31mParseException\u001b[0m: \nmismatched input 'product_name' expecting {<EOF>, '-'}(line 1, pos 10)\n\n== SQL ==\nCASE WHEN product_name LIKE \"%NIKE%\" THEN 1.5*product_price WHEN product_name LIKE \"%Armour%\" THEN 1.25*product_price ELSE product_price\n----------^^^\n"
     ]
    }
   ],
   "source": [
    "refined_product_df.withColumn('product_price',expr('CASE WHEN product_name LIKE \"%Nike%\" THEN 1.5*product_price WHEN product_name LIKE \"%Armour%\" THEN 1.25*product_price ELSE product_price')).show(20)"
   ]
  }
 ],
 "metadata": {
  "kernelspec": {
   "display_name": "Pyspark 3",
   "language": "python",
   "name": "pyspark3"
  },
  "language_info": {
   "codemirror_mode": {
    "name": "ipython",
    "version": 3
   },
   "file_extension": ".py",
   "mimetype": "text/x-python",
   "name": "python",
   "nbconvert_exporter": "python",
   "pygments_lexer": "ipython3",
   "version": "3.6.12"
  }
 },
 "nbformat": 4,
 "nbformat_minor": 5
}
