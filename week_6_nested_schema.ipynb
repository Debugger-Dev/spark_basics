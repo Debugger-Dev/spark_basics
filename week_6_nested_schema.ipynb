{
 "cells": [
  {
   "cell_type": "code",
   "execution_count": 1,
   "id": "2400fa16",
   "metadata": {},
   "outputs": [],
   "source": [
    "from pyspark.sql import SparkSession\n",
    "from pyspark.sql.functions import *\n",
    "import getpass\n",
    "username = getpass.getuser()\n",
    "spark = SparkSession. \\\n",
    "builder. \\\n",
    "config('spark.ui.port', '0'). \\\n",
    "config(\"spark.sql.warehouse.dir\", f\"/user/{username}/warehouse\"). \\\n",
    "enableHiveSupport(). \\\n",
    "master('yarn'). \\\n",
    "getOrCreate()"
   ]
  },
  {
   "cell_type": "code",
   "execution_count": 23,
   "id": "35945c72",
   "metadata": {},
   "outputs": [
    {
     "name": "stdout",
     "output_type": "stream",
     "text": [
      "{\"customer_id\":1,\"fullname\":{\"firstname\":\"sumit\",\"lastname\":\"mittal\"},\"city\":\"bangalore\"}\n",
      "{\"customer_id\":2,\"fullname\":{\"firstname\":\"ram\",\"lastname\":\"kumar\"},\"city\":\"hyderabad\"}\n",
      "{\"customer_id\":3,\"fullname\":{\"firstname\":\"vijay\",\"lastname\":\"shankar\"},\"city\":\"pune\"}\n"
     ]
    }
   ],
   "source": [
    "!hdfs dfs -cat /public/trendytech/datasets/customer_nested/*"
   ]
  },
  {
   "cell_type": "code",
   "execution_count": 24,
   "id": "40ec651c",
   "metadata": {},
   "outputs": [],
   "source": [
    "ddlSchema='customer_id long , fullname struct<firstname:string, lastname:string>, city string'"
   ]
  },
  {
   "cell_type": "code",
   "execution_count": 25,
   "id": "6cb64a77",
   "metadata": {},
   "outputs": [],
   "source": [
    "nested_df=spark.read.format('json').schema(ddlSchema).load('/public/trendytech/datasets/customer_nested/*')"
   ]
  },
  {
   "cell_type": "code",
   "execution_count": 26,
   "id": "51b541b6",
   "metadata": {},
   "outputs": [
    {
     "name": "stdout",
     "output_type": "stream",
     "text": [
      "root\n",
      " |-- customer_id: long (nullable = true)\n",
      " |-- fullname: struct (nullable = true)\n",
      " |    |-- firstname: string (nullable = true)\n",
      " |    |-- lastname: string (nullable = true)\n",
      " |-- city: string (nullable = true)\n",
      "\n"
     ]
    }
   ],
   "source": [
    "nested_df.printSchema()"
   ]
  },
  {
   "cell_type": "code",
   "execution_count": 27,
   "id": "5ceaa351",
   "metadata": {},
   "outputs": [
    {
     "name": "stdout",
     "output_type": "stream",
     "text": [
      "+-----------+----------------+---------+\n",
      "|customer_id|        fullname|     city|\n",
      "+-----------+----------------+---------+\n",
      "|          2|    [ram, kumar]|hyderabad|\n",
      "|          3|[vijay, shankar]|     pune|\n",
      "|          1| [sumit, mittal]|bangalore|\n",
      "+-----------+----------------+---------+\n",
      "\n"
     ]
    }
   ],
   "source": [
    "nested_df.show()"
   ]
  },
  {
   "cell_type": "code",
   "execution_count": 11,
   "id": "724fa98e",
   "metadata": {},
   "outputs": [],
   "source": [
    "from pyspark.sql.types import *"
   ]
  },
  {
   "cell_type": "code",
   "execution_count": 28,
   "id": "5a4545ac",
   "metadata": {},
   "outputs": [],
   "source": [
    "cust_schema= StructType([\n",
    "    StructField('customer_id',LongType()),\n",
    "    StructField('fullname',StructType([StructField('firstname',StringType()),StructField('lastname',StringType())])),\n",
    "    StructField('city',StringType())\n",
    "])"
   ]
  },
  {
   "cell_type": "code",
   "execution_count": 29,
   "id": "16d067a1",
   "metadata": {},
   "outputs": [],
   "source": [
    "nested_df1=spark.read.format('json').schema(cust_schema).load('/public/trendytech/datasets/customer_nested/*')"
   ]
  },
  {
   "cell_type": "code",
   "execution_count": 30,
   "id": "5c7b5665",
   "metadata": {},
   "outputs": [
    {
     "name": "stdout",
     "output_type": "stream",
     "text": [
      "+-----------+----------------+---------+\n",
      "|customer_id|        fullname|     city|\n",
      "+-----------+----------------+---------+\n",
      "|          2|    [ram, kumar]|hyderabad|\n",
      "|          3|[vijay, shankar]|     pune|\n",
      "|          1| [sumit, mittal]|bangalore|\n",
      "+-----------+----------------+---------+\n",
      "\n"
     ]
    }
   ],
   "source": [
    "nested_df1.show()"
   ]
  },
  {
   "cell_type": "code",
   "execution_count": 31,
   "id": "0c0adf5e",
   "metadata": {},
   "outputs": [
    {
     "name": "stdout",
     "output_type": "stream",
     "text": [
      "root\n",
      " |-- customer_id: long (nullable = true)\n",
      " |-- fullname: struct (nullable = true)\n",
      " |    |-- firstname: string (nullable = true)\n",
      " |    |-- lastname: string (nullable = true)\n",
      " |-- city: string (nullable = true)\n",
      "\n"
     ]
    }
   ],
   "source": [
    "nested_df1.printSchema()"
   ]
  },
  {
   "cell_type": "code",
   "execution_count": null,
   "id": "93633d5f",
   "metadata": {},
   "outputs": [],
   "source": []
  }
 ],
 "metadata": {
  "kernelspec": {
   "display_name": "Pyspark 3",
   "language": "python",
   "name": "pyspark3"
  },
  "language_info": {
   "codemirror_mode": {
    "name": "ipython",
    "version": 3
   },
   "file_extension": ".py",
   "mimetype": "text/x-python",
   "name": "python",
   "nbconvert_exporter": "python",
   "pygments_lexer": "ipython3",
   "version": "3.6.12"
  }
 },
 "nbformat": 4,
 "nbformat_minor": 5
}
