{
 "cells": [
  {
   "cell_type": "code",
   "execution_count": 1,
   "id": "897e07d8",
   "metadata": {},
   "outputs": [],
   "source": [
    "from pyspark.sql import SparkSession\n",
    "from pyspark.sql.functions import *\n",
    "import getpass\n",
    "username = getpass.getuser()\n",
    "spark = SparkSession. \\\n",
    "builder. \\\n",
    "config('spark.ui.port', '0'). \\\n",
    "config(\"spark.sql.warehouse.dir\", f\"/user/{username}/warehouse\"). \\\n",
    "enableHiveSupport(). \\\n",
    "master('yarn'). \\\n",
    "getOrCreate()"
   ]
  },
  {
   "cell_type": "code",
   "execution_count": 2,
   "id": "a767bbfb",
   "metadata": {},
   "outputs": [
    {
     "data": {
      "text/html": [
       "<table border='1'>\n",
       "<tr><th>id</th></tr>\n",
       "<tr><td>0</td></tr>\n",
       "<tr><td>1</td></tr>\n",
       "<tr><td>2</td></tr>\n",
       "<tr><td>3</td></tr>\n",
       "<tr><td>4</td></tr>\n",
       "<tr><td>5</td></tr>\n",
       "<tr><td>6</td></tr>\n",
       "<tr><td>7</td></tr>\n",
       "</table>\n"
      ],
      "text/plain": [
       "+---+\n",
       "| id|\n",
       "+---+\n",
       "|  0|\n",
       "|  1|\n",
       "|  2|\n",
       "|  3|\n",
       "|  4|\n",
       "|  5|\n",
       "|  6|\n",
       "|  7|\n",
       "+---+"
      ]
     },
     "execution_count": 2,
     "metadata": {},
     "output_type": "execute_result"
    }
   ],
   "source": [
    "spark.range(8)"
   ]
  },
  {
   "cell_type": "code",
   "execution_count": 3,
   "id": "d55dbfbd",
   "metadata": {},
   "outputs": [
    {
     "data": {
      "text/html": [
       "<table border='1'>\n",
       "<tr><th>id</th></tr>\n",
       "<tr><td>0</td></tr>\n",
       "<tr><td>1</td></tr>\n",
       "<tr><td>2</td></tr>\n",
       "<tr><td>3</td></tr>\n",
       "<tr><td>4</td></tr>\n",
       "<tr><td>5</td></tr>\n",
       "<tr><td>6</td></tr>\n",
       "<tr><td>7</td></tr>\n",
       "</table>\n"
      ],
      "text/plain": [
       "+---+\n",
       "| id|\n",
       "+---+\n",
       "|  0|\n",
       "|  1|\n",
       "|  2|\n",
       "|  3|\n",
       "|  4|\n",
       "|  5|\n",
       "|  6|\n",
       "|  7|\n",
       "+---+"
      ]
     },
     "execution_count": 3,
     "metadata": {},
     "output_type": "execute_result"
    }
   ],
   "source": [
    "spark.range(0,8)"
   ]
  },
  {
   "cell_type": "code",
   "execution_count": 4,
   "id": "07366666",
   "metadata": {},
   "outputs": [
    {
     "data": {
      "text/html": [
       "<table border='1'>\n",
       "<tr><th>id</th></tr>\n",
       "<tr><td>0</td></tr>\n",
       "<tr><td>2</td></tr>\n",
       "<tr><td>4</td></tr>\n",
       "<tr><td>6</td></tr>\n",
       "</table>\n"
      ],
      "text/plain": [
       "+---+\n",
       "| id|\n",
       "+---+\n",
       "|  0|\n",
       "|  2|\n",
       "|  4|\n",
       "|  6|\n",
       "+---+"
      ]
     },
     "execution_count": 4,
     "metadata": {},
     "output_type": "execute_result"
    }
   ],
   "source": [
    "spark.range(0,8,2)"
   ]
  },
  {
   "cell_type": "code",
   "execution_count": 8,
   "id": "f9319853",
   "metadata": {},
   "outputs": [],
   "source": [
    "lst=[]\n",
    "for i in range(0,2000):\n",
    "    lst.append(i)"
   ]
  },
  {
   "cell_type": "code",
   "execution_count": 10,
   "id": "7ecda0a1",
   "metadata": {},
   "outputs": [],
   "source": [
    "rdd=spark.sparkContext.parallelize(lst)"
   ]
  },
  {
   "cell_type": "code",
   "execution_count": null,
   "id": "67227b34",
   "metadata": {},
   "outputs": [],
   "source": [
    "df=spark.createDataFrame(lst)"
   ]
  },
  {
   "cell_type": "code",
   "execution_count": 2,
   "id": "0b81a736",
   "metadata": {},
   "outputs": [
    {
     "name": "stdout",
     "output_type": "stream",
     "text": [
      "1,07-25-2013,11599,CLOSED\n",
      "2,07-25-2013,256,PENDING_PAYMENT\n",
      "3,07-25-2013,12111,COMPLETE\n",
      "4,07-25-2013,8827,CLOSED\n",
      "5,07-25-2013,11318,COMPLETE\n",
      "6,07-25-2013,7130,COMPLETE\n",
      "7,07-25-2013,4530,COMPLETE\n",
      "8,07-25-2013,2911,PROCESSING\n",
      "9,07-25-2013,5657,PENDING_PAYMENT\n",
      "10,07-25-2013,5648,PENDING_PAYMENT\n"
     ]
    }
   ],
   "source": [
    "! hdfs dfs -cat /public/trendytech/datasets/orders_sample2.csv"
   ]
  },
  {
   "cell_type": "code",
   "execution_count": null,
   "id": "b456726d",
   "metadata": {},
   "outputs": [],
   "source": []
  },
  {
   "cell_type": "code",
   "execution_count": 4,
   "id": "ea53b9ee",
   "metadata": {},
   "outputs": [],
   "source": [
    "orders_list=[(1,'07-25-2013',11599,'CLOSED'),\n",
    "(2,'07-25-2013',256,'PENDING_PAYMENT'),\n",
    "(3,'07-25-2013',12111,'COMPLETE')]"
   ]
  },
  {
   "cell_type": "code",
   "execution_count": 5,
   "id": "dbb3b444",
   "metadata": {},
   "outputs": [],
   "source": [
    "orders_raw_df=spark.createDataFrame(orders_list)"
   ]
  },
  {
   "cell_type": "code",
   "execution_count": 6,
   "id": "9eea81a5",
   "metadata": {},
   "outputs": [
    {
     "name": "stdout",
     "output_type": "stream",
     "text": [
      "+---+----------+-----+---------------+\n",
      "| _1|        _2|   _3|             _4|\n",
      "+---+----------+-----+---------------+\n",
      "|  1|07-25-2013|11599|         CLOSED|\n",
      "|  2|07-25-2013|  256|PENDING_PAYMENT|\n",
      "|  3|07-25-2013|12111|       COMPLETE|\n",
      "+---+----------+-----+---------------+\n",
      "\n"
     ]
    }
   ],
   "source": [
    "orders_raw_df.show()"
   ]
  },
  {
   "cell_type": "code",
   "execution_count": 7,
   "id": "ad203189",
   "metadata": {},
   "outputs": [
    {
     "name": "stdout",
     "output_type": "stream",
     "text": [
      "root\n",
      " |-- _1: long (nullable = true)\n",
      " |-- _2: string (nullable = true)\n",
      " |-- _3: long (nullable = true)\n",
      " |-- _4: string (nullable = true)\n",
      "\n"
     ]
    }
   ],
   "source": [
    "orders_raw_df.printSchema()"
   ]
  },
  {
   "cell_type": "code",
   "execution_count": null,
   "id": "afe5a87b",
   "metadata": {},
   "outputs": [],
   "source": [
    "#how to fix the column names"
   ]
  },
  {
   "cell_type": "code",
   "execution_count": 8,
   "id": "79ae1431",
   "metadata": {},
   "outputs": [],
   "source": [
    "#way-1 2 step process\n",
    "orders_raw_df_fixed_name=spark.createDataFrame(orders_list).toDF('order_id','order_date','customer_id','order_status')"
   ]
  },
  {
   "cell_type": "code",
   "execution_count": 9,
   "id": "eed6c0cf",
   "metadata": {},
   "outputs": [
    {
     "name": "stdout",
     "output_type": "stream",
     "text": [
      "+--------+----------+-----------+---------------+\n",
      "|order_id|order_date|customer_id|   order_status|\n",
      "+--------+----------+-----------+---------------+\n",
      "|       1|07-25-2013|      11599|         CLOSED|\n",
      "|       2|07-25-2013|        256|PENDING_PAYMENT|\n",
      "|       3|07-25-2013|      12111|       COMPLETE|\n",
      "+--------+----------+-----------+---------------+\n",
      "\n"
     ]
    }
   ],
   "source": [
    "orders_raw_df_fixed_name.show()"
   ]
  },
  {
   "cell_type": "code",
   "execution_count": 10,
   "id": "12d6593d",
   "metadata": {},
   "outputs": [
    {
     "name": "stdout",
     "output_type": "stream",
     "text": [
      "root\n",
      " |-- order_id: long (nullable = true)\n",
      " |-- order_date: string (nullable = true)\n",
      " |-- customer_id: long (nullable = true)\n",
      " |-- order_status: string (nullable = true)\n",
      "\n"
     ]
    }
   ],
   "source": [
    "orders_raw_df_fixed_name.printSchema()"
   ]
  },
  {
   "cell_type": "code",
   "execution_count": 12,
   "id": "0f722e80",
   "metadata": {},
   "outputs": [],
   "source": [
    "#way-2 2 step process\n",
    "orders_raw_df_fixed_name_2=orders_raw_df.toDF('order_id','order_date','customer_id','order_status')"
   ]
  },
  {
   "cell_type": "code",
   "execution_count": 14,
   "id": "da381fca",
   "metadata": {},
   "outputs": [],
   "source": [
    "#way-3\n",
    "ord_schema=['order_id','order_date','customer_id','order_status']"
   ]
  },
  {
   "cell_type": "code",
   "execution_count": 15,
   "id": "57afa3ab",
   "metadata": {},
   "outputs": [],
   "source": [
    "ord_df=spark.createDataFrame(orders_list,ord_schema)"
   ]
  },
  {
   "cell_type": "code",
   "execution_count": 16,
   "id": "19ecfb52",
   "metadata": {},
   "outputs": [
    {
     "name": "stdout",
     "output_type": "stream",
     "text": [
      "+--------+----------+-----------+---------------+\n",
      "|order_id|order_date|customer_id|   order_status|\n",
      "+--------+----------+-----------+---------------+\n",
      "|       1|07-25-2013|      11599|         CLOSED|\n",
      "|       2|07-25-2013|        256|PENDING_PAYMENT|\n",
      "|       3|07-25-2013|      12111|       COMPLETE|\n",
      "+--------+----------+-----------+---------------+\n",
      "\n"
     ]
    }
   ],
   "source": [
    "ord_df.show()"
   ]
  },
  {
   "cell_type": "markdown",
   "id": "833bff38",
   "metadata": {},
   "source": [
    "#how to enforce our own schema "
   ]
  },
  {
   "cell_type": "code",
   "execution_count": 19,
   "id": "3b7d46cf",
   "metadata": {},
   "outputs": [],
   "source": [
    "#way-1\n",
    "order_schema='order_id long,order_date string,customer_id long,order_status string' "
   ]
  },
  {
   "cell_type": "code",
   "execution_count": 26,
   "id": "5b36997e",
   "metadata": {},
   "outputs": [],
   "source": [
    "order_df=spark.createDataFrame(orders_list,order_schema)"
   ]
  },
  {
   "cell_type": "code",
   "execution_count": 21,
   "id": "94537dc0",
   "metadata": {},
   "outputs": [
    {
     "name": "stdout",
     "output_type": "stream",
     "text": [
      "root\n",
      " |-- order_id: long (nullable = true)\n",
      " |-- order_date: string (nullable = true)\n",
      " |-- customer_id: long (nullable = true)\n",
      " |-- order_status: string (nullable = true)\n",
      "\n"
     ]
    }
   ],
   "source": [
    "order_df.printSchema()"
   ]
  },
  {
   "cell_type": "code",
   "execution_count": 22,
   "id": "f855e55a",
   "metadata": {},
   "outputs": [],
   "source": [
    "#change order_date from string to datetime\n",
    "from pyspark.sql.functions import to_timestamp"
   ]
  },
  {
   "cell_type": "code",
   "execution_count": 29,
   "id": "f589e94d",
   "metadata": {},
   "outputs": [],
   "source": [
    "new_order_df=order_df.withColumn('order_date',to_timestamp('order_date','mm-dd-yyyy'))\n",
    "#old/existing column and to_timestamp(new_colname)"
   ]
  },
  {
   "cell_type": "code",
   "execution_count": 30,
   "id": "a74636f3",
   "metadata": {},
   "outputs": [
    {
     "name": "stdout",
     "output_type": "stream",
     "text": [
      "+--------+-------------------+-----------+---------------+\n",
      "|order_id|         order_date|customer_id|   order_status|\n",
      "+--------+-------------------+-----------+---------------+\n",
      "|       1|2013-01-25 00:07:00|      11599|         CLOSED|\n",
      "|       2|2013-01-25 00:07:00|        256|PENDING_PAYMENT|\n",
      "|       3|2013-01-25 00:07:00|      12111|       COMPLETE|\n",
      "+--------+-------------------+-----------+---------------+\n",
      "\n"
     ]
    }
   ],
   "source": [
    "new_order_df.show()"
   ]
  },
  {
   "cell_type": "code",
   "execution_count": 31,
   "id": "c7dd6c49",
   "metadata": {},
   "outputs": [
    {
     "name": "stdout",
     "output_type": "stream",
     "text": [
      "root\n",
      " |-- order_id: long (nullable = true)\n",
      " |-- order_date: timestamp (nullable = true)\n",
      " |-- customer_id: long (nullable = true)\n",
      " |-- order_status: string (nullable = true)\n",
      "\n"
     ]
    }
   ],
   "source": [
    "new_order_df.printSchema()"
   ]
  }
 ],
 "metadata": {
  "kernelspec": {
   "display_name": "Pyspark 3",
   "language": "python",
   "name": "pyspark3"
  },
  "language_info": {
   "codemirror_mode": {
    "name": "ipython",
    "version": 3
   },
   "file_extension": ".py",
   "mimetype": "text/x-python",
   "name": "python",
   "nbconvert_exporter": "python",
   "pygments_lexer": "ipython3",
   "version": "3.6.12"
  }
 },
 "nbformat": 4,
 "nbformat_minor": 5
}
