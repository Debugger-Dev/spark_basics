{
 "cells": [
  {
   "cell_type": "code",
   "execution_count": 1,
   "id": "b2650c5f",
   "metadata": {},
   "outputs": [],
   "source": [
    "from pyspark.sql import SparkSession\n",
    "import getpass\n",
    "username = getpass.getuser()\n",
    "spark = SparkSession. \\\n",
    "builder. \\\n",
    "config('spark.ui.port', '0'). \\\n",
    "config(\"spark.sql.warehouse.dir\", f\"/user/{username}/warehouse\"). \\\n",
    "enableHiveSupport(). \\\n",
    "master('yarn'). \\\n",
    "getOrCreate()"
   ]
  },
  {
   "cell_type": "code",
   "execution_count": 2,
   "id": "82c81a48",
   "metadata": {},
   "outputs": [],
   "source": [
    "order_base=spark.sparkContext.textFile('/public/trendytech/orders/orders_1gb.csv')"
   ]
  },
  {
   "cell_type": "code",
   "execution_count": 3,
   "id": "e4caec1f",
   "metadata": {},
   "outputs": [],
   "source": [
    "order_rdd=order_base.map(lambda x:(x.split(\",\")[2],x.split(\",\")[3]))"
   ]
  },
  {
   "cell_type": "code",
   "execution_count": 4,
   "id": "e9ca0613",
   "metadata": {},
   "outputs": [],
   "source": [
    "cust_base=spark.sparkContext.textFile('/public/trendytech/retail_db/customers/part-00000')"
   ]
  },
  {
   "cell_type": "code",
   "execution_count": 5,
   "id": "5747427a",
   "metadata": {},
   "outputs": [],
   "source": [
    "cust_rdd=cust_base.map(lambda x:(x.split(\",\")[0],x.split(\",\")[8]))"
   ]
  },
  {
   "cell_type": "code",
   "execution_count": 6,
   "id": "ac9b0484",
   "metadata": {},
   "outputs": [
    {
     "data": {
      "text/plain": [
       "[('11599', 'CLOSED'),\n",
       " ('256', 'PENDING_PAYMENT'),\n",
       " ('12111', 'COMPLETE'),\n",
       " ('8827', 'CLOSED'),\n",
       " ('11318', 'COMPLETE')]"
      ]
     },
     "execution_count": 6,
     "metadata": {},
     "output_type": "execute_result"
    }
   ],
   "source": [
    "order_rdd.take(5)"
   ]
  },
  {
   "cell_type": "code",
   "execution_count": 7,
   "id": "48f664ca",
   "metadata": {},
   "outputs": [
    {
     "data": {
      "text/plain": [
       "[('1', '78521'),\n",
       " ('2', '80126'),\n",
       " ('3', '00725'),\n",
       " ('4', '92069'),\n",
       " ('5', '00725')]"
      ]
     },
     "execution_count": 7,
     "metadata": {},
     "output_type": "execute_result"
    }
   ],
   "source": [
    "cust_rdd.take(5)"
   ]
  },
  {
   "cell_type": "code",
   "execution_count": 8,
   "id": "e171522f",
   "metadata": {},
   "outputs": [],
   "source": [
    "customer_broadcast=spark.sparkContext.broadcast(cust_rdd.collect())    #####Broadcasted"
   ]
  },
  {
   "cell_type": "code",
   "execution_count": 9,
   "id": "34f531e6",
   "metadata": {},
   "outputs": [],
   "source": [
    "def get_pin(customer_id):\n",
    "    try:\n",
    "        return customer_broadcast.value[customer_id]\n",
    "    except:\n",
    "        return \"-1\""
   ]
  },
  {
   "cell_type": "code",
   "execution_count": 10,
   "id": "1abfdaf1",
   "metadata": {},
   "outputs": [],
   "source": [
    "joined_rdd=order_rdd.map(lambda x:(get_pin(int(x[0])),x[1]))"
   ]
  },
  {
   "cell_type": "code",
   "execution_count": 11,
   "id": "d99a61b6",
   "metadata": {},
   "outputs": [],
   "source": [
    "joined_rdd.saveAsTextFile(\"data/broadcast_joined_data\")"
   ]
  }
 ],
 "metadata": {
  "kernelspec": {
   "display_name": "Pyspark 3",
   "language": "python",
   "name": "pyspark3"
  },
  "language_info": {
   "codemirror_mode": {
    "name": "ipython",
    "version": 3
   },
   "file_extension": ".py",
   "mimetype": "text/x-python",
   "name": "python",
   "nbconvert_exporter": "python",
   "pygments_lexer": "ipython3",
   "version": "3.6.12"
  }
 },
 "nbformat": 4,
 "nbformat_minor": 5
}
